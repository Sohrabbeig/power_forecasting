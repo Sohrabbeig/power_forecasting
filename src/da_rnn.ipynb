{
  "cells": [
    {
      "cell_type": "markdown",
      "metadata": {},
      "source": [
        "## Select GPU"
      ]
    },
    {
      "cell_type": "code",
      "execution_count": 1,
      "metadata": {},
      "outputs": [],
      "source": [
        "import os\n",
        "os.environ[\"CUDA_VISIBLE_DEVICES\"]=\"1\""
      ]
    },
    {
      "cell_type": "markdown",
      "metadata": {
        "colab_type": "text",
        "id": "_NK8TN-slic4"
      },
      "source": [
        "# DA RNN"
      ]
    },
    {
      "cell_type": "markdown",
      "metadata": {},
      "source": [
        "## Imports"
      ]
    },
    {
      "cell_type": "code",
      "execution_count": 2,
      "metadata": {},
      "outputs": [],
      "source": [
        "import matplotlib.pyplot as plt\n",
        "\n",
        "from torch.autograd import Variable\n",
        "\n",
        "import torch\n",
        "import numpy as np\n",
        "import pandas as pd\n",
        "from torch import nn\n",
        "from torch import optim\n",
        "import torch.nn.functional as F\n",
        "from torch.utils.data import TensorDataset, DataLoader, ConcatDataset\n",
        "from torch.optim.lr_scheduler import ExponentialLR\n",
        "\n",
        "from tqdm.notebook import tqdm\n",
        "from sklearn.preprocessing import MinMaxScaler\n",
        "\n",
        "from prep_austin import austin_hourly"
      ]
    },
    {
      "cell_type": "markdown",
      "metadata": {
        "colab_type": "text",
        "id": "gFX-OX3e8cMW"
      },
      "source": [
        "## Model Architecture"
      ]
    },
    {
      "cell_type": "markdown",
      "metadata": {},
      "source": [
        "### Encoder"
      ]
    },
    {
      "cell_type": "code",
      "execution_count": 3,
      "metadata": {},
      "outputs": [],
      "source": [
        "class Encoder(nn.Module):\n",
        "    def __init__(self, T, input_size, encoder_num_hidden):\n",
        "        super(Encoder, self).__init__()\n",
        "        self.encoder_num_hidden = encoder_num_hidden\n",
        "        self.input_size = input_size\n",
        "        self.T = T\n",
        "\n",
        "        self.encoder_lstm = nn.LSTM(\n",
        "            input_size=self.input_size,\n",
        "            hidden_size=self.encoder_num_hidden,\n",
        "            num_layers = 1\n",
        "        )\n",
        "\n",
        "        self.encoder_attn = nn.Linear(\n",
        "            in_features=2 * self.encoder_num_hidden + self.T,\n",
        "            out_features=1\n",
        "        )\n",
        "\n",
        "    def forward(self, X):\n",
        "        X_tilde = X.new_zeros(X.size(0), self.T, self.input_size)\n",
        "        X_encoded = X.new_zeros(X.size(0), self.T, self.encoder_num_hidden)\n",
        "\n",
        "        h_n = self._init_states(X)\n",
        "        s_n = self._init_states(X)\n",
        "\n",
        "        for t in range(self.T):\n",
        "            x = torch.cat((h_n.repeat(self.input_size, 1, 1).permute(1, 0, 2),\n",
        "                           s_n.repeat(self.input_size, 1, 1).permute(1, 0, 2),\n",
        "                           X.permute(0, 2, 1)), dim=2)\n",
        "            \n",
        "            x = self.encoder_attn(\n",
        "                x.view(-1, self.encoder_num_hidden * 2 + self.T))\n",
        "\n",
        "            alpha = F.softmax(x.view(-1, self.input_size), dim=1)\n",
        "            x_tilde = torch.mul(alpha, X[:, t, :])\n",
        "            self.encoder_lstm.flatten_parameters()\n",
        "\n",
        "            _, final_state = self.encoder_lstm(x_tilde.unsqueeze(0), (h_n, s_n))\n",
        "            h_n = final_state[0]\n",
        "            s_n = final_state[1]\n",
        "\n",
        "            X_tilde[:, t, :] = x_tilde\n",
        "            X_encoded[:, t, :] = h_n\n",
        "\n",
        "        return X_tilde, X_encoded\n",
        "\n",
        "    def _init_states(self, X):\n",
        "        return X.new_zeros(1, X.size(0), self.encoder_num_hidden)"
      ]
    },
    {
      "cell_type": "markdown",
      "metadata": {},
      "source": [
        "### Decoder"
      ]
    },
    {
      "cell_type": "code",
      "execution_count": 4,
      "metadata": {
        "colab": {},
        "colab_type": "code",
        "id": "rtEHHVWxlh0C"
      },
      "outputs": [],
      "source": [
        "class Decoder(nn.Module):\n",
        "    def __init__(self, T, decoder_num_hidden, encoder_num_hidden):\n",
        "        super(Decoder, self).__init__()\n",
        "        self.decoder_num_hidden = decoder_num_hidden\n",
        "        self.encoder_num_hidden = encoder_num_hidden\n",
        "        self.T = T\n",
        "\n",
        "        self.attn_layer = nn.Sequential(\n",
        "            nn.Linear(2 * decoder_num_hidden + encoder_num_hidden, encoder_num_hidden),\n",
        "            nn.Tanh(),\n",
        "            nn.Linear(encoder_num_hidden, 1)\n",
        "        )\n",
        "        self.lstm_layer = nn.LSTM(\n",
        "            input_size=1,\n",
        "            hidden_size=decoder_num_hidden\n",
        "        )\n",
        "        self.fc = nn.Linear(encoder_num_hidden + 1, 1)\n",
        "        self.fc_final = nn.Linear(decoder_num_hidden + encoder_num_hidden, 1)\n",
        "\n",
        "        self.fc.weight.data.normal_()\n",
        "\n",
        "    def forward(self, X_encoded, y_prev):\n",
        "        d_n = self._init_states(X_encoded)\n",
        "        c_n = self._init_states(X_encoded)\n",
        "\n",
        "        for t in range(self.T):\n",
        "\n",
        "            x = torch.cat((d_n.repeat(self.T, 1, 1).permute(1, 0, 2),\n",
        "                           c_n.repeat(self.T, 1, 1).permute(1, 0, 2),\n",
        "                           X_encoded), dim=2)\n",
        "\n",
        "            beta = F.softmax(self.attn_layer(\n",
        "                x.view(-1, 2 * self.decoder_num_hidden + self.encoder_num_hidden)).view(-1, self.T), dim=1)\n",
        "\n",
        "            context = torch.bmm(beta.unsqueeze(1), X_encoded)[:, 0, :]\n",
        "            if t < self.T:\n",
        "                y_tilde = self.fc(\n",
        "                    torch.cat((context, y_prev[:, t].unsqueeze(1)), dim=1))\n",
        "\n",
        "                self.lstm_layer.flatten_parameters()\n",
        "                _, final_states = self.lstm_layer(\n",
        "                    y_tilde.unsqueeze(0), (d_n, c_n))\n",
        "\n",
        "                d_n = final_states[0]\n",
        "                c_n = final_states[1]\n",
        "\n",
        "        y_pred = self.fc_final(torch.cat((d_n[0], context), dim=1))\n",
        "\n",
        "        return y_pred\n",
        "\n",
        "    def _init_states(self, X):\n",
        "        return X.new_zeros(1, X.size(0), self.decoder_num_hidden)"
      ]
    },
    {
      "cell_type": "markdown",
      "metadata": {},
      "source": [
        "### DA-RNN"
      ]
    },
    {
      "cell_type": "code",
      "execution_count": 5,
      "metadata": {},
      "outputs": [],
      "source": [
        "class DA_rnn(nn.Module):\n",
        "    def __init__(self, T,\n",
        "                 encoder_num_hidden,\n",
        "                 decoder_num_hidden,\n",
        "                 input_size,\n",
        "                 device = 'cpu',\n",
        "                 parallel=False):\n",
        "        super(DA_rnn, self).__init__()\n",
        "        self.encoder_num_hidden = encoder_num_hidden\n",
        "        self.decoder_num_hidden = decoder_num_hidden\n",
        "        self.input_size = input_size\n",
        "        self.parallel = parallel\n",
        "        self.device = device\n",
        "        self.T = T\n",
        "\n",
        "        self.Encoder = Encoder(input_size=self.input_size,\n",
        "                               encoder_num_hidden=encoder_num_hidden,\n",
        "                               T=T).to(self.device)\n",
        "        self.Decoder = Decoder(encoder_num_hidden=encoder_num_hidden,\n",
        "                               decoder_num_hidden=decoder_num_hidden,\n",
        "                               T=T).to(self.device)\n",
        "\n",
        "        if self.parallel:\n",
        "            self.encoder = nn.DataParallel(self.encoder)\n",
        "            self.decoder = nn.DataParallel(self.decoder)\n",
        "\n",
        "    def forward(self, t):\n",
        "        X = t[:,:,:-1]\n",
        "        y = t[:,:,-1]\n",
        "        _ , input_encoded = self.Encoder(X.float().to(self.device))\n",
        "        y_pred = self.Decoder(input_encoded, y.float().to(self.device))\n",
        "\n",
        "        return y_pred"
      ]
    },
    {
      "cell_type": "markdown",
      "metadata": {},
      "source": [
        "## Train and test loops"
      ]
    },
    {
      "cell_type": "code",
      "execution_count": 6,
      "metadata": {},
      "outputs": [],
      "source": [
        "def train_loop(dataloader, model, loss_fn, encoder_optimizer, decoder_optimizer):\n",
        "    size = len(dataloader.dataset)\n",
        "\n",
        "    model.train()\n",
        "    for batch, (X, y) in enumerate(dataloader):\n",
        "        # Compute prediction and loss\n",
        "        pred = model(X.float().to(device))\n",
        "        loss = loss_fn(pred, y.float().to(device))\n",
        "\n",
        "        # Backpropagation\n",
        "        encoder_optimizer.zero_grad()\n",
        "        decoder_optimizer.zero_grad()\n",
        "        loss.backward()\n",
        "        encoder_optimizer.step()\n",
        "        decoder_optimizer.step()\n",
        "\n",
        "        # if batch % 100 == 0:\n",
        "        #     loss, current = loss.item(), batch * len(X)\n",
        "        #     print(f\"loss: {loss:>7f}  [{current:>5d}/{size:>5d}]\")\n",
        "\n",
        "\n",
        "def test_loop(dataloader, model, loss_fn):\n",
        "    num_batches = len(dataloader)\n",
        "    test_loss = 0\n",
        "    sMAPE_values = np.empty((0,2))\n",
        "    \n",
        "    model.eval()\n",
        "    with torch.no_grad():\n",
        "        for X, y in dataloader:\n",
        "            pred = model(X.to(device))\n",
        "            test_loss += loss_fn(pred, y.to(device)).item()\n",
        "            sMAPE_values = np.concatenate((sMAPE_values, \\\n",
        "                np.column_stack((pred.cpu().detach().numpy().reshape(-1,1), y.numpy()))))\n",
        "    \n",
        "    sMAPE = np.array([abs(a-b)/(abs(a)+abs(b)) for (a,b) in sMAPE_values]).mean()*100\n",
        "    \n",
        "    test_loss /= num_batches\n",
        "    print(f\"Test results: \\n sMAPE: {(sMAPE):>0.1f}%, Avg loss: {test_loss:>8f} \\n\")"
      ]
    },
    {
      "cell_type": "markdown",
      "metadata": {
        "colab_type": "text",
        "id": "Q7v_B_SV8iHu"
      },
      "source": [
        "## Util Function"
      ]
    },
    {
      "cell_type": "code",
      "execution_count": 7,
      "metadata": {},
      "outputs": [],
      "source": [
        "def read_data(dataroot, train_prop, force_reload=False):\n",
        "    df = austin_hourly(dataroot, force_reload)\n",
        "    actual_targets = df['target'].to_numpy().reshape(-1,1)\n",
        "    train_size = int(np.ceil(df.shape[0] * train_prop))\n",
        "    train_df = df[:train_size]\n",
        "\n",
        "    sc = MinMaxScaler()\n",
        "    label_sc = MinMaxScaler()\n",
        "    sc.fit(train_df)\n",
        "    label_sc.fit(train_df['target'].values.reshape(-1,1))\n",
        "\n",
        "\n",
        "    df = pd.DataFrame(\n",
        "        sc.transform(df),\n",
        "        index=df.index,\n",
        "        columns=df.columns\n",
        "    )\n",
        "\n",
        "    inputs = []\n",
        "    targets = []\n",
        "\n",
        "    for i in range(T, len(df)):\n",
        "        inputs.append(df[i-T:i].to_numpy())\n",
        "        targets.append(df.loc[i, 'target'])\n",
        "\n",
        "    inputs = np.array(inputs)\n",
        "    targets = np.array(targets).reshape(-1,1)\n",
        "\n",
        "    X_train = inputs[:train_size]\n",
        "    y_train = targets[:train_size]\n",
        "\n",
        "    X_test = inputs[train_size:]\n",
        "    y_test = targets[train_size:]\n",
        "\n",
        "    train_dataset = TensorDataset(torch.from_numpy(X_train), torch.from_numpy(y_train))\n",
        "    test_dataset = TensorDataset(torch.from_numpy(X_test), torch.from_numpy(y_test))\n",
        "\n",
        "    return train_dataset, test_dataset, actual_targets, label_sc\n",
        "\n",
        "def plot_result():\n",
        "    if epoch % 10 == 0:\n",
        "        train_size = int(np.ceil(len(actual_targets) * train_prop))\n",
        "        with torch.no_grad():\n",
        "            preds = np.array([])\n",
        "            for X, y in plot_dataloader:\n",
        "                preds = np.concatenate((preds, model(X.to(device)).cpu().detach().numpy().reshape(-1)))\n",
        "            preds = label_sc.inverse_transform(preds.reshape(-1,1))\n",
        "            plt.ioff()\n",
        "            plt.figure()\n",
        "            plt.plot()\n",
        "            plt.plot(actual_targets.reshape(-1), label=\"True\")\n",
        "            plt.plot(range(T, train_size + T),\n",
        "                        preds[:train_size], label='Predicted - Train')\n",
        "            plt.plot(range(T + train_size, len(actual_targets)),\n",
        "                        preds[train_size:], label='Predicted - Test')\n",
        "            plt.legend(loc='upper left')\n",
        "            plt.show()\n"
      ]
    },
    {
      "cell_type": "markdown",
      "metadata": {
        "colab_type": "text",
        "id": "Ca-OxO-Z8lEt"
      },
      "source": [
        "## Main"
      ]
    },
    {
      "cell_type": "code",
      "execution_count": 8,
      "metadata": {},
      "outputs": [],
      "source": [
        "dataroot = '../data/residental_buildings'\n",
        "batch_size = 128\n",
        "nhidden_encoder = 128\n",
        "nhidden_decoder = 128\n",
        "T = 24\n",
        "lr = 0.001\n",
        "epochs = 50\n",
        "shuffle = False\n",
        "train_prop = 0.7"
      ]
    },
    {
      "cell_type": "code",
      "execution_count": 9,
      "metadata": {
        "colab": {
          "base_uri": "https://localhost:8080/",
          "height": 1000
        },
        "colab_type": "code",
        "id": "Jc-8Qvsyv6tt",
        "outputId": "09ee121b-2978-4f75-e826-e2d5fab5bbb9"
      },
      "outputs": [
        {
          "name": "stdout",
          "output_type": "stream",
          "text": [
            "==> Load dataset ...\n",
            "==> Use accelerator:  cuda\n",
            "==> Initialize DA-RNN model ...\n",
            "==> Start training ...\n",
            "Epoch 1\n",
            "Test results: \n",
            " sMAPE: 34.9%, Avg loss: 0.007860 \n",
            "\n",
            "Epoch 2\n",
            "Test results: \n",
            " sMAPE: 29.6%, Avg loss: 0.003606 \n",
            "\n",
            "Epoch 3\n",
            "Test results: \n",
            " sMAPE: 23.3%, Avg loss: 0.003094 \n",
            "\n",
            "Epoch 4\n",
            "Test results: \n",
            " sMAPE: 23.7%, Avg loss: 0.003022 \n",
            "\n",
            "Epoch 5\n",
            "Test results: \n",
            " sMAPE: 23.8%, Avg loss: 0.002993 \n",
            "\n",
            "Epoch 6\n",
            "Test results: \n",
            " sMAPE: 22.9%, Avg loss: 0.002998 \n",
            "\n",
            "Epoch 7\n",
            "Test results: \n",
            " sMAPE: 22.5%, Avg loss: 0.002984 \n",
            "\n",
            "Epoch 8\n",
            "Test results: \n",
            " sMAPE: 22.2%, Avg loss: 0.002998 \n",
            "\n",
            "Epoch 9\n",
            "Test results: \n",
            " sMAPE: 22.4%, Avg loss: 0.003019 \n",
            "\n",
            "Epoch 10\n",
            "Test results: \n",
            " sMAPE: 23.1%, Avg loss: 0.003041 \n",
            "\n"
          ]
        },
        {
          "data": {
            "image/png": "[encoded data removed]",
            "text/plain": [
              "<Figure size 432x288 with 1 Axes>"
            ]
          },
          "metadata": {
            "needs_background": "light"
          },
          "output_type": "display_data"
        },
        {
          "name": "stdout",
          "output_type": "stream",
          "text": [
            "Epoch 11\n",
            "Test results: \n",
            " sMAPE: 26.6%, Avg loss: 0.003110 \n",
            "\n",
            "Epoch 12\n",
            "Test results: \n",
            " sMAPE: 29.8%, Avg loss: 0.003108 \n",
            "\n",
            "Epoch 13\n",
            "Test results: \n",
            " sMAPE: 32.4%, Avg loss: 0.003097 \n",
            "\n",
            "Epoch 14\n",
            "Test results: \n",
            " sMAPE: 32.8%, Avg loss: 0.003051 \n",
            "\n",
            "Epoch 15\n"
          ]
        }
      ],
      "source": [
        "# Read dataset\n",
        "print(\"==> Load dataset ...\")\n",
        "train_dataset, test_dataset, actual_targets,label_sc = read_data(dataroot, train_prop)\n",
        "input_size = train_dataset[0][0].shape[1]-1\n",
        "\n",
        "# Create Dataloaders\n",
        "train_dataloader = DataLoader(train_dataset, batch_size=batch_size, shuffle=shuffle, drop_last=True)\n",
        "test_dataloader = DataLoader(test_dataset, batch_size=batch_size, shuffle=shuffle, drop_last=True)\n",
        "plot_dataloader = DataLoader(ConcatDataset((train_dataset, test_dataset)), batch_size=batch_size, shuffle=False, drop_last=False)\n",
        "\n",
        "# Set device\n",
        "device = 'cuda' if torch.cuda.is_available() else 'cpu'\n",
        "print(\"==> Use accelerator: \", device)\n",
        "\n",
        "# Initialize model\n",
        "print(\"==> Initialize DA-RNN model ...\")\n",
        "model = DA_rnn(\n",
        "    T,\n",
        "    nhidden_encoder,\n",
        "    nhidden_decoder,\n",
        "    input_size,\n",
        "    device\n",
        ")\n",
        "\n",
        "# Loss function\n",
        "criterion = nn.MSELoss()\n",
        "\n",
        "# Optimizer\n",
        "encoder_optimizer = optim.Adam(model.Encoder.parameters(), lr=lr)\n",
        "decoder_optimizer = optim.Adam(model.Decoder.parameters(), lr=lr)\n",
        "\n",
        "scheduler1 = ExponentialLR(encoder_optimizer, gamma=0.9)\n",
        "scheduler2 = ExponentialLR(decoder_optimizer, gamma=0.9)\n",
        "\n",
        "# Train and Test\n",
        "print(\"==> Start training ...\")\n",
        "\n",
        "for epoch in range(1,epochs+1):\n",
        "    print(f\"Epoch {epoch}\")\n",
        "    train_loop(train_dataloader, model, criterion, encoder_optimizer, decoder_optimizer)\n",
        "    test_loop(test_dataloader, model, criterion)\n",
        "    plot_result()\n",
        "\n",
        "    # Update learning rate\n",
        "    if epoch % 5 == 0:\n",
        "        scheduler1.step()\n",
        "        scheduler2.step  \n",
        "\n",
        "print(\"Task done!\")"
      ]
    }
  ],
  "metadata": {
    "accelerator": "GPU",
    "colab": {
      "collapsed_sections": [],
      "name": "da-rnn.ipynb",
      "provenance": []
    },
    "kernelspec": {
      "display_name": "Python 3",
      "name": "python3"
    },
    "language_info": {
      "codemirror_mode": {
        "name": "ipython",
        "version": 3
      },
      "file_extension": ".py",
      "mimetype": "text/x-python",
      "name": "python",
      "nbconvert_exporter": "python",
      "pygments_lexer": "ipython3",
      "version": "3.9.7"
    }
  },
  "nbformat": 4,
  "nbformat_minor": 0
}
